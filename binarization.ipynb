{
 "cells": [
  {
   "cell_type": "markdown",
   "metadata": {},
   "source": [
    "# 通常の2値化"
   ]
  },
  {
   "cell_type": "code",
   "execution_count": 1,
   "metadata": {
    "tags": []
   },
   "outputs": [],
   "source": [
    "# 画像ファイルのパス\n",
    "image_path = 'C:/Users/0000408836/workspace/aii/ar_chart_calib/samples/muramatsusan_poiq/0000_0.jpg'"
   ]
  },
  {
   "cell_type": "code",
   "execution_count": 2,
   "metadata": {
    "tags": []
   },
   "outputs": [
    {
     "ename": "error",
     "evalue": "OpenCV(4.9.0) D:\\a\\opencv-python\\opencv-python\\opencv\\modules\\highgui\\src\\window.cpp:866: error: (-215:Assertion failed) trackbar in function 'cv::getTrackbarPos'\n",
     "output_type": "error",
     "traceback": [
      "\u001b[1;31m---------------------------------------------------------------------------\u001b[0m",
      "\u001b[1;31merror\u001b[0m                                     Traceback (most recent call last)",
      "\u001b[1;32m~\\AppData\\Local\\Temp\\ipykernel_41928\\3472486216.py\u001b[0m in \u001b[0;36mupdate_view\u001b[1;34m(val)\u001b[0m\n\u001b[0;32m      4\u001b[0m     \u001b[1;31m# トラックバーから値を取得\u001b[0m\u001b[1;33m\u001b[0m\u001b[1;33m\u001b[0m\u001b[1;33m\u001b[0m\u001b[0m\n\u001b[0;32m      5\u001b[0m     \u001b[0mthreshold\u001b[0m \u001b[1;33m=\u001b[0m \u001b[0mcv2\u001b[0m\u001b[1;33m.\u001b[0m\u001b[0mgetTrackbarPos\u001b[0m\u001b[1;33m(\u001b[0m\u001b[1;34m'Threshold'\u001b[0m\u001b[1;33m,\u001b[0m \u001b[1;34m'View'\u001b[0m\u001b[1;33m)\u001b[0m\u001b[1;33m\u001b[0m\u001b[1;33m\u001b[0m\u001b[0m\n\u001b[1;32m----> 6\u001b[1;33m     \u001b[0mscale\u001b[0m \u001b[1;33m=\u001b[0m \u001b[0mcv2\u001b[0m\u001b[1;33m.\u001b[0m\u001b[0mgetTrackbarPos\u001b[0m\u001b[1;33m(\u001b[0m\u001b[1;34m'Scale'\u001b[0m\u001b[1;33m,\u001b[0m \u001b[1;34m'View'\u001b[0m\u001b[1;33m)\u001b[0m \u001b[1;33m/\u001b[0m \u001b[1;36m10\u001b[0m  \u001b[1;31m# 10で割ってスケールを計算（トラックバーは整数しか扱えないため）\u001b[0m\u001b[1;33m\u001b[0m\u001b[1;33m\u001b[0m\u001b[0m\n\u001b[0m\u001b[0;32m      7\u001b[0m \u001b[1;33m\u001b[0m\u001b[0m\n\u001b[0;32m      8\u001b[0m     \u001b[1;31m# 画像を2値化\u001b[0m\u001b[1;33m\u001b[0m\u001b[1;33m\u001b[0m\u001b[1;33m\u001b[0m\u001b[0m\n",
      "\u001b[1;31merror\u001b[0m: OpenCV(4.9.0) D:\\a\\opencv-python\\opencv-python\\opencv\\modules\\highgui\\src\\window.cpp:866: error: (-215:Assertion failed) trackbar in function 'cv::getTrackbarPos'\n"
     ]
    }
   ],
   "source": [
    "import cv2\n",
    "\n",
    "def update_view(val):\n",
    "    # トラックバーから値を取得\n",
    "    threshold = cv2.getTrackbarPos('Threshold', 'View')\n",
    "    scale = cv2.getTrackbarPos('Scale', 'View') / 10  # 10で割ってスケールを計算（トラックバーは整数しか扱えないため）\n",
    "\n",
    "    # 画像を2値化\n",
    "    _, binary_image = cv2.threshold(gray_image, threshold, 255, cv2.THRESH_BINARY)\n",
    "\n",
    "    # 画像のリサイズ（倍率で調整）\n",
    "    resized_image = cv2.resize(binary_image, None, fx=scale, fy=scale, interpolation=cv2.INTER_LINEAR)\n",
    "\n",
    "    # 2値化された画像を表示\n",
    "    cv2.imshow('View', resized_image)\n",
    "\n",
    "# 画像をグレースケールで読み込み\n",
    "original_image = cv2.imread(image_path)\n",
    "gray_image = cv2.cvtColor(original_image, cv2.COLOR_BGR2GRAY)\n",
    "\n",
    "# 初期設定\n",
    "initial_threshold = 127\n",
    "initial_scale = 5  # 初期倍率（例えば、1.0倍であれば10を指定）\n",
    "\n",
    "# ウィンドウの作成\n",
    "cv2.namedWindow('View')\n",
    "\n",
    "# トラックバーの作成\n",
    "cv2.createTrackbar('Threshold', 'View', initial_threshold, 255, update_view)\n",
    "cv2.createTrackbar('Scale', 'View', initial_scale, 30, update_view)  # 30を最大値とする（3.0倍まで）\n",
    "\n",
    "# 初期状態の更新\n",
    "update_view(0)\n",
    "\n",
    "# ウィンドウが閉じるまで待機\n",
    "cv2.waitKey(0)\n",
    "cv2.destroyAllWindows()"
   ]
  },
  {
   "cell_type": "code",
   "execution_count": null,
   "metadata": {},
   "outputs": [],
   "source": []
  }
 ],
 "metadata": {
  "kernelspec": {
   "display_name": "Python 3 (ipykernel)",
   "language": "python",
   "name": "python3"
  },
  "language_info": {
   "codemirror_mode": {
    "name": "ipython",
    "version": 3
   },
   "file_extension": ".py",
   "mimetype": "text/x-python",
   "name": "python",
   "nbconvert_exporter": "python",
   "pygments_lexer": "ipython3",
   "version": "3.7.9"
  }
 },
 "nbformat": 4,
 "nbformat_minor": 4
}
